{
 "cells": [
  {
   "cell_type": "code",
   "execution_count": 1,
   "metadata": {},
   "outputs": [],
   "source": [
    "import numpy as np\n",
    "import cv2\n",
    "import sys"
   ]
  },
  {
   "cell_type": "code",
   "execution_count": null,
   "metadata": {
    "scrolled": false
   },
   "outputs": [],
   "source": [
    "cv2.namedWindow(\"tracking\")\n",
    "# camera = cv2.VideoCapture(0)\n",
    "video_offline = cv2.VideoCapture(\"/mnt/24eb92b8-4fc1-4f32-b05c-deaa999ce6cf/Documents/datasets/face/camera_supervisor/output.mp4\")\n",
    "tracker = cv2.MultiTracker_create()\n",
    "init_once = False\n",
    "# ok, image = camera.read()\n",
    "ok, image = video_offline.read()\n",
    "if not ok:\n",
    "    print(\"Failed to read video\")\n",
    "    exit()\n",
    "\n",
    "bbox1 = cv2.selectROI('tracking', image)\n",
    "bbox2 = cv2.selectROI('tracking', image)\n",
    "bbox3 = cv2.selectROI('tracking', image)\n",
    "print(type(bbox1))\n",
    "print(bbox1)\n",
    "while True:\n",
    "    ok, image = camera.read()\n",
    "#     ok, image = video_offline.read()\n",
    "    if not ok:\n",
    "        print(\"No image to read\")\n",
    "        break\n",
    "    \n",
    "    if not init_once:\n",
    "        ok = tracker.add(cv2.TrackerMIL_create(), image, bbox1)\n",
    "        ok = tracker.add(cv2.TrackerMIL_create(), image, bbox2)\n",
    "        ok = tracker.add(cv2.TrackerMIL_create(), image, bbox3)\n",
    "        \n",
    "        init_once = True\n",
    "        \n",
    "    ok, boxes = tracker.update(image)\n",
    "    print(boxes)\n",
    "    print(type(boxes))\n",
    "    print(ok, boxes)\n",
    "    \n",
    "    for newbox in boxes:\n",
    "        p1 = (int(newbox[0]), int(newbox[1]))\n",
    "        p2 = (int(newbox[0] + newbox[2]), int(newbox[1] + newbox[3]))\n",
    "        cv2.rectangle(image, p1, p2, (200, 0, 0))\n",
    "        \n",
    "    cv2.imshow(\"image\", image)\n",
    "    \n",
    "    # Check for key strokes\n",
    "    k = cv2.waitKey(1) & 0xff\n",
    "    if k == ord('n'):\n",
    "        continue\n",
    "    elif k == 27:  # 'esc' key has been pressed, exit program.\n",
    "        break\n",
    "cap.release()\n",
    "cv2.destroyAllWindows()           \n"
   ]
  },
  {
   "cell_type": "code",
   "execution_count": null,
   "metadata": {
    "scrolled": false
   },
   "outputs": [],
   "source": [
    "\n",
    "import numpy as np\n",
    "import cv2 as cv\n",
    "import sys\n",
    "\n",
    "if len(sys.argv) != 2:\n",
    "    print('Input video name is missing')\n",
    "    exit()\n",
    "\n",
    "cv.namedWindow(\"tracking\")\n",
    "camera = cv.VideoCapture(0)\n",
    "ok, image=camera.read()\n",
    "if not ok:\n",
    "    print('Failed to read video')\n",
    "    exit()\n",
    "bbox = cv.selectROI(\"tracking\", image)\n",
    "tracker = cv.TrackerMIL_create()\n",
    "init_once = False\n",
    "\n",
    "while camera.isOpened():\n",
    "    ok, image=camera.read()\n",
    "    if not ok:\n",
    "        print ('no image to read')\n",
    "        break\n",
    "\n",
    "    if not init_once:\n",
    "        ok = tracker.init(image, bbox)\n",
    "        init_once = True\n",
    "\n",
    "    ok, newbox = tracker.update(image)\n",
    "    print (ok, newbox)\n",
    "\n",
    "    if ok:\n",
    "        p1 = (int(newbox[0]), int(newbox[1]))\n",
    "        p2 = (int(newbox[0] + newbox[2]), int(newbox[1] + newbox[3]))\n",
    "        cv.rectangle(image, p1, p2, (200,0,0))\n",
    "\n",
    "    cv.imshow(\"tracking\", image)\n",
    "    k = cv.waitKey(1) & 0xff\n",
    "    if k == 27 : break # esc pressed"
   ]
  },
  {
   "cell_type": "code",
   "execution_count": null,
   "metadata": {},
   "outputs": [],
   "source": []
  }
 ],
 "metadata": {
  "kernelspec": {
   "display_name": "Python 3",
   "language": "python",
   "name": "python3"
  },
  "language_info": {
   "codemirror_mode": {
    "name": "ipython",
    "version": 3
   },
   "file_extension": ".py",
   "mimetype": "text/x-python",
   "name": "python",
   "nbconvert_exporter": "python",
   "pygments_lexer": "ipython3",
   "version": "3.6.5"
  }
 },
 "nbformat": 4,
 "nbformat_minor": 2
}
