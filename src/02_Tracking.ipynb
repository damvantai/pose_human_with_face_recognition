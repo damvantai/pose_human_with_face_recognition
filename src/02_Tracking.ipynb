{
 "cells": [
  {
   "cell_type": "code",
   "execution_count": null,
   "metadata": {},
   "outputs": [],
   "source": [
    "from imutils.video import WebcamVideoStream\n",
    "from imutils.video import FPS\n",
    "\n",
    "import cv2\n",
    "import imutils\n",
    "import numpy as np\n",
    "import time"
   ]
  },
  {
   "cell_type": "code",
   "execution_count": null,
   "metadata": {},
   "outputs": [],
   "source": [
    "(major, minor) = cv2.__version__.split(\".\")[:2]"
   ]
  },
  {
   "cell_type": "code",
   "execution_count": null,
   "metadata": {},
   "outputs": [],
   "source": [
    "(major, minor)"
   ]
  },
  {
   "cell_type": "code",
   "execution_count": null,
   "metadata": {},
   "outputs": [],
   "source": [
    "OPENCV_OBJECT_TRACKERS = {\n",
    "    'crst': cv2.TrackerCSRT_create,\n",
    "    'kcf': cv2.TrackerKCF_create,\n",
    "    'boosting': cv2.TrackerBoosting_create,\n",
    "    'mil': cv2.TrackerMIL_create,\n",
    "    'tld': cv2.TrackerTLD_create,\n",
    "    'medianflow': cv2.TrackerMedianFlow_create,\n",
    "    'mosse': cv2.TrackerMOSSE_create\n",
    "}"
   ]
  },
  {
   "cell_type": "code",
   "execution_count": null,
   "metadata": {},
   "outputs": [],
   "source": [
    "tracker = OPENCV_OBJECT_TRACKERS['kcf']()"
   ]
  },
  {
   "cell_type": "code",
   "execution_count": null,
   "metadata": {},
   "outputs": [],
   "source": [
    "center_points = []"
   ]
  },
  {
   "cell_type": "code",
   "execution_count": null,
   "metadata": {},
   "outputs": [],
   "source": [
    "# tracker = OPENCV_OBJECT_TRACKERS['crst']()\n",
    "initBB = None\n",
    "video_capture = WebcamVideoStream(src=0).start()\n",
    "fps = None\n",
    "\n",
    "while True:\n",
    "#     center_points = []\n",
    "    frame = video_capture.read()\n",
    "    frame = imutils.resize(frame, width=500)\n",
    "    (H, W) = frame.shape[:2]\n",
    "    \n",
    "    if initBB is not None:\n",
    "        (success, box) = tracker.update(frame)\n",
    "        \n",
    "        if success:\n",
    "            (x, y, w, h) = [int(v) for v in box]\n",
    "            cv2.rectangle(frame, (x, y), (x + w, y + h), (255, 0, 0), 3)\n",
    "            point = np.asarray([x + w/2. , y + h/2.])\n",
    "            center_points.append(point)\n",
    "            \n",
    "        fps.update()\n",
    "        fps.stop()\n",
    "        \n",
    "        info = [\n",
    "            (\"Tracker\", (str(tracker)).split(\" \")[0] + \">\"),\n",
    "            (\"Success\", \"Yes\" if success else \"NO\"),\n",
    "            (\"FPS\", \"{:2f}\".format(fps.fps())),\n",
    "        ]\n",
    "        \n",
    "        for (i, (k, v)) in enumerate(info):\n",
    "            text = \"{}: {}\".format(k, v)\n",
    "            cv2.putText(frame, text, (10, H - ((i * 20) + 20)),\n",
    "                       cv2.FONT_HERSHEY_SIMPLEX, 0.6, (0, 0, 255), 2)\n",
    "            \n",
    "    for i in range(len(center_points)):\n",
    "            cv2.circle(frame, (int(center_points[i][0]), int(center_points[i][1])), 6, (0,0,255), 1)\n",
    "                \n",
    "    cv2.imshow(\"Frame\", frame)\n",
    "    key = cv2.waitKey(1) & 0xFF\n",
    "    \n",
    "    if key == ord(\"s\"):\n",
    "        initBB = cv2.selectROI(\"Frame\", frame, fromCenter=False, showCrosshair=True)\n",
    "        \n",
    "        print(initBB)\n",
    "        tracker.init(frame, initBB)\n",
    "        fps = FPS().start()\n",
    "    \n",
    "    elif key == ord(\"q\"):\n",
    "        break\n",
    "vs.stop()\n",
    "cv2.destroyAllWindows()       "
   ]
  },
  {
   "cell_type": "code",
   "execution_count": null,
   "metadata": {},
   "outputs": [],
   "source": [
    "33 261 135 345"
   ]
  },
  {
   "cell_type": "code",
   "execution_count": null,
   "metadata": {},
   "outputs": [],
   "source": []
  }
 ],
 "metadata": {
  "kernelspec": {
   "display_name": "Python 3",
   "language": "python",
   "name": "python3"
  },
  "language_info": {
   "codemirror_mode": {
    "name": "ipython",
    "version": 3
   },
   "file_extension": ".py",
   "mimetype": "text/x-python",
   "name": "python",
   "nbconvert_exporter": "python",
   "pygments_lexer": "ipython3",
   "version": "3.6.5"
  }
 },
 "nbformat": 4,
 "nbformat_minor": 2
}
