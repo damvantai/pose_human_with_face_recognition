{
 "cells": [
  {
   "cell_type": "markdown",
   "metadata": {},
   "source": [
    "## Tracking multi faces"
   ]
  },
  {
   "cell_type": "code",
   "execution_count": 1,
   "metadata": {},
   "outputs": [],
   "source": [
    "import cv2\n",
    "import dlib\n",
    "import face_recognition\n",
    "import matplotlib.pyplot as plt\n",
    "import numpy as np\n",
    "import os\n",
    "import tensorflow as tf\n"
   ]
  },
  {
   "cell_type": "code",
   "execution_count": 2,
   "metadata": {},
   "outputs": [],
   "source": [
    "def load_data(path):\n",
    "    face_encodings_in_room = []\n",
    "    face_names_in_room = []\n",
    "    known_face_encodings_array = np.load(path + \"known_face_encoding.npy\")\n",
    "    known_face_names = np.load(path + \"known_face_names.npy\")\n",
    "    \n",
    "    # Convert nparray -> list to face encoding\n",
    "    len_face = len(known_face_names)\n",
    "    known_face_encodings_array = known_face_encodings_array.reshape(len_face, 128)\n",
    "    known_face_encodings_list = []\n",
    "    for i in range(len_face):\n",
    "        known_face_encodings_list.append(known_face_encodings_array[i])\n",
    "    \n",
    "    return known_face_encodings_list, known_face_names"
   ]
  },
  {
   "cell_type": "code",
   "execution_count": 3,
   "metadata": {},
   "outputs": [],
   "source": [
    "from threading import Thread\n",
    "import cv2\n",
    "import imutils\n",
    "class WebcamVideoStream:\n",
    "    def __init__(self, src=0):\n",
    "        self.stream = cv2.VideoCapture(src)\n",
    "        self.stream.set(3, 800)\n",
    "        self.stream.set(4, 600)\n",
    "        (self.grabbed, self.frame) = self.stream.read()\n",
    "        \n",
    "        self.stopped = False\n",
    "        \n",
    "    def start(self):\n",
    "        # Start the thread to read frames from the video stream\n",
    "        Thread(target=self.update, args=()).start()\n",
    "        return self\n",
    "    \n",
    "    def update(self):\n",
    "        while True:\n",
    "            if self.stopped:\n",
    "                return\n",
    "            \n",
    "            (self.grabbed, self.frame) = self.stream.read()\n",
    "            \n",
    "    def read(self):\n",
    "        return self.frame\n",
    "    \n",
    "    def stop(self):\n",
    "        self.stopped = True"
   ]
  },
  {
   "cell_type": "code",
   "execution_count": 4,
   "metadata": {},
   "outputs": [],
   "source": [
    "known_face_ecodings_list, known_face_names = load_data(\"../data/numpy/\")"
   ]
  },
  {
   "cell_type": "code",
   "execution_count": 5,
   "metadata": {},
   "outputs": [],
   "source": [
    "tracker = cv2.MultiTracker_create()"
   ]
  },
  {
   "cell_type": "code",
   "execution_count": 6,
   "metadata": {},
   "outputs": [],
   "source": [
    "def computer_area(temp_box, list_box):\n",
    "    dx = min(a.xmax,)\n",
    "    "
   ]
  },
  {
   "cell_type": "code",
   "execution_count": 1,
   "metadata": {
    "scrolled": true
   },
   "outputs": [
    {
     "ename": "NameError",
     "evalue": "name 'WebcamVideoStream' is not defined",
     "output_type": "error",
     "traceback": [
      "\u001b[0;31m---------------------------------------------------------------------------\u001b[0m",
      "\u001b[0;31mNameError\u001b[0m                                 Traceback (most recent call last)",
      "\u001b[0;32m<ipython-input-1-4ed22e5da924>\u001b[0m in \u001b[0;36m<module>\u001b[0;34m()\u001b[0m\n\u001b[0;32m----> 1\u001b[0;31m \u001b[0mvideo_capture\u001b[0m \u001b[0;34m=\u001b[0m \u001b[0mWebcamVideoStream\u001b[0m\u001b[0;34m(\u001b[0m\u001b[0msrc\u001b[0m\u001b[0;34m=\u001b[0m\u001b[0;36m0\u001b[0m\u001b[0;34m)\u001b[0m\u001b[0;34m.\u001b[0m\u001b[0mstart\u001b[0m\u001b[0;34m(\u001b[0m\u001b[0;34m)\u001b[0m\u001b[0;34m\u001b[0m\u001b[0m\n\u001b[0m\u001b[1;32m      2\u001b[0m \u001b[0mnumber_frame\u001b[0m \u001b[0;34m=\u001b[0m \u001b[0;36m0\u001b[0m\u001b[0;34m\u001b[0m\u001b[0m\n\u001b[1;32m      3\u001b[0m \u001b[0mfont\u001b[0m \u001b[0;34m=\u001b[0m \u001b[0mcv2\u001b[0m\u001b[0;34m.\u001b[0m\u001b[0mFONT_HERSHEY_SIMPLEX\u001b[0m\u001b[0;34m\u001b[0m\u001b[0m\n\u001b[1;32m      4\u001b[0m \u001b[0mtracker\u001b[0m \u001b[0;34m=\u001b[0m \u001b[0mcv2\u001b[0m\u001b[0;34m.\u001b[0m\u001b[0mMultiTracker_create\u001b[0m\u001b[0;34m(\u001b[0m\u001b[0;34m)\u001b[0m\u001b[0;34m\u001b[0m\u001b[0m\n\u001b[1;32m      5\u001b[0m \u001b[0minit_once\u001b[0m \u001b[0;34m=\u001b[0m \u001b[0;32mFalse\u001b[0m\u001b[0;34m\u001b[0m\u001b[0m\n",
      "\u001b[0;31mNameError\u001b[0m: name 'WebcamVideoStream' is not defined"
     ]
    }
   ],
   "source": [
    "video_capture = WebcamVideoStream(src=0).start()\n",
    "number_frame = 0\n",
    "font = cv2.FONT_HERSHEY_SIMPLEX\n",
    "tracker = cv2.MultiTracker_create()\n",
    "init_once = False\n",
    "name_boxes = []\n",
    "boxes_known = []\n",
    "name_known = []\n",
    "while True:\n",
    "    frame = video_capture.read()\n",
    "#     rgb_frame = frame[:, :, ::-1]\n",
    "    frame_process = frame\n",
    "    face_locations = face_recognition.face_locations(frame)\n",
    "    face_encodings = face_recognition.face_encodings(frame, face_locations)\n",
    "    \n",
    "    if (number_frame % 10 == 0):\n",
    "        # Delete tracker and initi tracker\n",
    "        \n",
    "#         name_boxes = []\n",
    "        if init_once == True:\n",
    "            tracker.clear()\n",
    "            tracker = cv2.MultiTracker_create()\n",
    "#             # Create tracker with name known from before frame, and init name_boxes with people known\n",
    "#             #\n",
    "#             name_boxes_temp = [] # name of people \n",
    "#             boxes_known = [] # box of people known\n",
    "            \n",
    "#             for newbow, name in zip(boxes, name_boxes):\n",
    "#                 if name != \"unknown\":\n",
    "#                     ok = tracker.add(cv2.TrackerMIL_create(), frame, (newbow[0], newbow[1] , newbow[2], newbow[3]))\n",
    "#                     name_boxes_temp.append(name)\n",
    "#                     boxes_known.append(newbow)\n",
    "#             print(name_boxes_temp)\n",
    "#         # With people known, continue face recognition in next frame\n",
    "#         # And only change name unknown if (area between unknown and predict > 90 %)\n",
    "#             name_boxes = name_boxes_temp\n",
    "        for (top, right, bottom, left), face_encoding in zip(face_locations, face_encodings):\n",
    "            if len(known_face_ecodings_list) > 0:\n",
    "                distance = face_recognition.face_distance(known_face_ecodings_list, face_encoding)\n",
    "                point = np.min(distance)\n",
    "                index_point_min = np.argmin(distance)\n",
    "#                 print(top, right, bottom, left)\n",
    "                ok = tracker.add(cv2.TrackerMIL_create(), frame, (left, top, (right-left), (bottom-top)))\n",
    "\n",
    "                if point > 0.4:\n",
    "                    name = \"Unknown\"\n",
    "                    cv2.rectangle(frame, (left, top), (right, bottom), (0, 127, 0), 3)\n",
    "                    cv2.putText(frame, name, (left + 6, top - 6), font, 1.0, (0, 0, 255), 1)\n",
    "                    name_boxes.append(name)\n",
    "                elif point <= 0.4:\n",
    "                    name = known_face_names[index_point_min]\n",
    "                    cv2.rectangle(frame, (left, top), (right, bottom), (255, 0, 0), 3)\n",
    "                    cv2.putText(frame, name, (left + 6, top - 6), font, 1.0, (0, 0, 255), 1)\n",
    "                    name_boxes.append(name)\n",
    "    ok, boxes = tracker.update(frame)\n",
    "    print(tracker)\n",
    "    print(boxes)\n",
    "    init_once = True\n",
    "    for newbox, name in zip(boxes, name_boxes):\n",
    "        p1 = (int(newbox[0]), int(newbox[1]))\n",
    "        p2 = (int(newbox[0] + newbox[2]), int(newbox[1] + newbox[3]))\n",
    "        cv2.rectangle(frame, p1, p2, (0, 0, 255))\n",
    "        cv2.putText(frame, name, p1, font, 1.0, (0, 0, 255), 1)\n",
    "    cv2.imshow(\"frame\", frame)\n",
    "               \n",
    "    number_frame += 1\n",
    "               \n",
    "    # Press Q on keyboard to stop recording\n",
    "    if cv2.waitKey(1) & 0xFF == ord('q'):\n",
    "        break"
   ]
  },
  {
   "cell_type": "code",
   "execution_count": null,
   "metadata": {},
   "outputs": [],
   "source": []
  },
  {
   "cell_type": "code",
   "execution_count": null,
   "metadata": {},
   "outputs": [],
   "source": []
  }
 ],
 "metadata": {
  "kernelspec": {
   "display_name": "Python 3",
   "language": "python",
   "name": "python3"
  },
  "language_info": {
   "codemirror_mode": {
    "name": "ipython",
    "version": 3
   },
   "file_extension": ".py",
   "mimetype": "text/x-python",
   "name": "python",
   "nbconvert_exporter": "python",
   "pygments_lexer": "ipython3",
   "version": "3.6.5"
  }
 },
 "nbformat": 4,
 "nbformat_minor": 2
}
