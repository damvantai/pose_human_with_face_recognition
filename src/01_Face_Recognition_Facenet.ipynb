{
 "cells": [
  {
   "cell_type": "code",
   "execution_count": 1,
   "metadata": {},
   "outputs": [],
   "source": [
    "from __future__ import absolute_import\n",
    "from __future__ import division\n",
    "from __future__ import print_function\n",
    "\n",
    "import align.detect_face\n",
    "import facenet\n",
    "import glob\n",
    "import cv2\n",
    "import imutils\n",
    "import numpy as np\n",
    "import os\n",
    "import tensorflow as tf"
   ]
  },
  {
   "cell_type": "code",
   "execution_count": 2,
   "metadata": {},
   "outputs": [],
   "source": [
    "# Constants\n",
    "minsize = 20\n",
    "threshold = [0.6, 0.7, 0.7]\n",
    "factor = 0.709\n",
    "margin = 44\n",
    "input_image_size = 160"
   ]
  },
  {
   "cell_type": "code",
   "execution_count": 3,
   "metadata": {},
   "outputs": [
    {
     "name": "stdout",
     "output_type": "stream",
     "text": [
      "Creating networks and loading parameters\n",
      "Model filename: /home/neosai/Documents/model/facenet/models/20180408-102900/20180408-102900.pb\n"
     ]
    }
   ],
   "source": [
    "print('Creating networks and loading parameters')\n",
    "with tf.Graph().as_default():\n",
    "    gpu_options = tf.GPUOptions(per_process_gpu_memory_fraction=1)\n",
    "    sess = tf.Session(config=tf.ConfigProto(gpu_options=gpu_options, log_device_placement=False))\n",
    "    with sess.as_default():\n",
    "        pnet, rnet, onet = align.detect_face.create_mtcnn(sess, 'align')\n",
    "sess = tf.Session()\n",
    "with sess.as_default():\n",
    "    pnet, rnet, onet = align.detect_face.create_mtcnn(sess, \"align\")\n",
    "facenet.load_model(\"/home/neosai/Documents/model/facenet/models/20180408-102900/20180408-102900.pb\")"
   ]
  },
  {
   "cell_type": "code",
   "execution_count": 4,
   "metadata": {},
   "outputs": [],
   "source": [
    "images_placeholder = tf.get_default_graph().get_tensor_by_name(\"input:0\")\n",
    "embeddings = tf.get_default_graph().get_tensor_by_name(\"embeddings:0\")\n",
    "phase_train_placeholder = tf.get_default_graph().get_tensor_by_name(\"phase_train:0\")\n",
    "embedding_size = embeddings.get_shape()[1]"
   ]
  },
  {
   "cell_type": "code",
   "execution_count": 5,
   "metadata": {},
   "outputs": [],
   "source": [
    "def getFace(img):\n",
    "    faces = []\n",
    "    img_size = np.asarray(img.shape)[0:2]\n",
    "    bounding_boxes, _ = align.detect_face.detect_face(img, minsize, pnet, rnet, onet, threshold, factor)\n",
    "    if not len(bounding_boxes) == 0:\n",
    "        for face in bounding_boxes:\n",
    "            if face[4] > 0.50:\n",
    "                det = np.squeeze(face[0:4])\n",
    "                bb = np.zeros(4, dtype=np.int32)\n",
    "                bb[0] = np.maximum(det[0] - margin / 2, 0)\n",
    "                bb[1] = np.maximum(det[1] - margin / 2, 0)\n",
    "                bb[2] = np.minimum(det[2] + margin / 2, img_size[1])\n",
    "                bb[3] = np.minimum(det[3] + margin / 2, img_size[0])\n",
    "                cropped = img[bb[1]:bb[3], bb[0]:bb[2], :]\n",
    "                resized = cv2.resize(cropped, (input_image_size,input_image_size),interpolation=cv2.INTER_CUBIC)\n",
    "                prewhitened = facenet.prewhiten(resized)\n",
    "                faces.append({'face':resized,'rect':[bb[0],bb[1],bb[2],bb[3]],'embedding':getEmbedding(prewhitened)})\n",
    "    return faces"
   ]
  },
  {
   "cell_type": "code",
   "execution_count": 6,
   "metadata": {},
   "outputs": [],
   "source": [
    "def getEmbedding(resized):\n",
    "    reshaped = resized.reshape(-1,input_image_size,input_image_size,3)\n",
    "    feed_dict = {images_placeholder: reshaped, phase_train_placeholder: False}\n",
    "    embedding = sess.run(embeddings, feed_dict=feed_dict)\n",
    "    return embedding"
   ]
  },
  {
   "cell_type": "code",
   "execution_count": 7,
   "metadata": {},
   "outputs": [
    {
     "name": "stdout",
     "output_type": "stream",
     "text": [
      "../data/people_known/Tong Thi Thuy.1.jpg\n",
      "[[[ 78 192 178]\n",
      "  [ 79 193 179]\n",
      "  [ 77 194 179]\n",
      "  ...\n",
      "  [192 218 224]\n",
      "  [192 218 224]\n",
      "  [192 218 224]]\n",
      "\n",
      " [[ 81 194 180]\n",
      "  [ 81 195 181]\n",
      "  [ 82 196 182]\n",
      "  ...\n",
      "  [193 219 225]\n",
      "  [193 219 225]\n",
      "  [192 218 224]]\n",
      "\n",
      " [[ 84 195 181]\n",
      "  [ 84 195 181]\n",
      "  [ 85 196 182]\n",
      "  ...\n",
      "  [193 219 225]\n",
      "  [193 219 225]\n",
      "  [192 218 224]]\n",
      "\n",
      " ...\n",
      "\n",
      " [[225 240 255]\n",
      "  [225 240 255]\n",
      "  [224 239 255]\n",
      "  ...\n",
      "  [191 219 243]\n",
      "  [191 219 243]\n",
      "  [192 220 244]]\n",
      "\n",
      " [[223 238 254]\n",
      "  [223 238 254]\n",
      "  [222 237 253]\n",
      "  ...\n",
      "  [191 219 243]\n",
      "  [192 220 244]\n",
      "  [193 221 245]]\n",
      "\n",
      " [[222 237 253]\n",
      "  [222 237 253]\n",
      "  [222 237 253]\n",
      "  ...\n",
      "  [192 220 244]\n",
      "  [192 220 244]\n",
      "  [193 221 245]]]\n",
      "(1284, 1061, 3)\n"
     ]
    },
    {
     "ename": "NameError",
     "evalue": "name 'images_placeholder' is not defined",
     "output_type": "error",
     "traceback": [
      "\u001b[0;31m---------------------------------------------------------------------------\u001b[0m",
      "\u001b[0;31mNameError\u001b[0m                                 Traceback (most recent call last)",
      "\u001b[0;32m<ipython-input-7-a891c8040c5d>\u001b[0m in \u001b[0;36m<module>\u001b[0;34m()\u001b[0m\n\u001b[1;32m      5\u001b[0m     \u001b[0mprint\u001b[0m\u001b[0;34m(\u001b[0m\u001b[0mimg\u001b[0m\u001b[0;34m)\u001b[0m\u001b[0;34m\u001b[0m\u001b[0m\n\u001b[1;32m      6\u001b[0m     \u001b[0mprint\u001b[0m\u001b[0;34m(\u001b[0m\u001b[0mimg\u001b[0m\u001b[0;34m.\u001b[0m\u001b[0mshape\u001b[0m\u001b[0;34m)\u001b[0m\u001b[0;34m\u001b[0m\u001b[0m\n\u001b[0;32m----> 7\u001b[0;31m     \u001b[0mface_encode\u001b[0m \u001b[0;34m=\u001b[0m \u001b[0mgetFace\u001b[0m\u001b[0;34m(\u001b[0m\u001b[0mimg\u001b[0m\u001b[0;34m)\u001b[0m\u001b[0;34m\u001b[0m\u001b[0m\n\u001b[0m\u001b[1;32m      8\u001b[0m     \u001b[0mprint\u001b[0m\u001b[0;34m(\u001b[0m\u001b[0mface_encode\u001b[0m\u001b[0;34m)\u001b[0m\u001b[0;34m\u001b[0m\u001b[0m\n",
      "\u001b[0;32m<ipython-input-5-296eb435279a>\u001b[0m in \u001b[0;36mgetFace\u001b[0;34m(img)\u001b[0m\n\u001b[1;32m     15\u001b[0m                 \u001b[0mresized\u001b[0m \u001b[0;34m=\u001b[0m \u001b[0mcv2\u001b[0m\u001b[0;34m.\u001b[0m\u001b[0mresize\u001b[0m\u001b[0;34m(\u001b[0m\u001b[0mcropped\u001b[0m\u001b[0;34m,\u001b[0m \u001b[0;34m(\u001b[0m\u001b[0minput_image_size\u001b[0m\u001b[0;34m,\u001b[0m\u001b[0minput_image_size\u001b[0m\u001b[0;34m)\u001b[0m\u001b[0;34m,\u001b[0m\u001b[0minterpolation\u001b[0m\u001b[0;34m=\u001b[0m\u001b[0mcv2\u001b[0m\u001b[0;34m.\u001b[0m\u001b[0mINTER_CUBIC\u001b[0m\u001b[0;34m)\u001b[0m\u001b[0;34m\u001b[0m\u001b[0m\n\u001b[1;32m     16\u001b[0m                 \u001b[0mprewhitened\u001b[0m \u001b[0;34m=\u001b[0m \u001b[0mfacenet\u001b[0m\u001b[0;34m.\u001b[0m\u001b[0mprewhiten\u001b[0m\u001b[0;34m(\u001b[0m\u001b[0mresized\u001b[0m\u001b[0;34m)\u001b[0m\u001b[0;34m\u001b[0m\u001b[0m\n\u001b[0;32m---> 17\u001b[0;31m                 \u001b[0mfaces\u001b[0m\u001b[0;34m.\u001b[0m\u001b[0mappend\u001b[0m\u001b[0;34m(\u001b[0m\u001b[0;34m{\u001b[0m\u001b[0;34m'face'\u001b[0m\u001b[0;34m:\u001b[0m\u001b[0mresized\u001b[0m\u001b[0;34m,\u001b[0m\u001b[0;34m'rect'\u001b[0m\u001b[0;34m:\u001b[0m\u001b[0;34m[\u001b[0m\u001b[0mbb\u001b[0m\u001b[0;34m[\u001b[0m\u001b[0;36m0\u001b[0m\u001b[0;34m]\u001b[0m\u001b[0;34m,\u001b[0m\u001b[0mbb\u001b[0m\u001b[0;34m[\u001b[0m\u001b[0;36m1\u001b[0m\u001b[0;34m]\u001b[0m\u001b[0;34m,\u001b[0m\u001b[0mbb\u001b[0m\u001b[0;34m[\u001b[0m\u001b[0;36m2\u001b[0m\u001b[0;34m]\u001b[0m\u001b[0;34m,\u001b[0m\u001b[0mbb\u001b[0m\u001b[0;34m[\u001b[0m\u001b[0;36m3\u001b[0m\u001b[0;34m]\u001b[0m\u001b[0;34m]\u001b[0m\u001b[0;34m,\u001b[0m\u001b[0;34m'embedding'\u001b[0m\u001b[0;34m:\u001b[0m\u001b[0mgetEmbedding\u001b[0m\u001b[0;34m(\u001b[0m\u001b[0mprewhitened\u001b[0m\u001b[0;34m)\u001b[0m\u001b[0;34m}\u001b[0m\u001b[0;34m)\u001b[0m\u001b[0;34m\u001b[0m\u001b[0m\n\u001b[0m\u001b[1;32m     18\u001b[0m     \u001b[0;32mreturn\u001b[0m \u001b[0mfaces\u001b[0m\u001b[0;34m\u001b[0m\u001b[0m\n",
      "\u001b[0;32m<ipython-input-6-814433f173c6>\u001b[0m in \u001b[0;36mgetEmbedding\u001b[0;34m(resized)\u001b[0m\n\u001b[1;32m      1\u001b[0m \u001b[0;32mdef\u001b[0m \u001b[0mgetEmbedding\u001b[0m\u001b[0;34m(\u001b[0m\u001b[0mresized\u001b[0m\u001b[0;34m)\u001b[0m\u001b[0;34m:\u001b[0m\u001b[0;34m\u001b[0m\u001b[0m\n\u001b[1;32m      2\u001b[0m     \u001b[0mreshaped\u001b[0m \u001b[0;34m=\u001b[0m \u001b[0mresized\u001b[0m\u001b[0;34m.\u001b[0m\u001b[0mreshape\u001b[0m\u001b[0;34m(\u001b[0m\u001b[0;34m-\u001b[0m\u001b[0;36m1\u001b[0m\u001b[0;34m,\u001b[0m\u001b[0minput_image_size\u001b[0m\u001b[0;34m,\u001b[0m\u001b[0minput_image_size\u001b[0m\u001b[0;34m,\u001b[0m\u001b[0;36m3\u001b[0m\u001b[0;34m)\u001b[0m\u001b[0;34m\u001b[0m\u001b[0m\n\u001b[0;32m----> 3\u001b[0;31m     \u001b[0mfeed_dict\u001b[0m \u001b[0;34m=\u001b[0m \u001b[0;34m{\u001b[0m\u001b[0mimages_placeholder\u001b[0m\u001b[0;34m:\u001b[0m \u001b[0mreshaped\u001b[0m\u001b[0;34m,\u001b[0m \u001b[0mphase_train_placeholder\u001b[0m\u001b[0;34m:\u001b[0m \u001b[0;32mFalse\u001b[0m\u001b[0;34m}\u001b[0m\u001b[0;34m\u001b[0m\u001b[0m\n\u001b[0m\u001b[1;32m      4\u001b[0m     \u001b[0membedding\u001b[0m \u001b[0;34m=\u001b[0m \u001b[0msess\u001b[0m\u001b[0;34m.\u001b[0m\u001b[0mrun\u001b[0m\u001b[0;34m(\u001b[0m\u001b[0membeddings\u001b[0m\u001b[0;34m,\u001b[0m \u001b[0mfeed_dict\u001b[0m\u001b[0;34m=\u001b[0m\u001b[0mfeed_dict\u001b[0m\u001b[0;34m)\u001b[0m\u001b[0;34m\u001b[0m\u001b[0m\n\u001b[1;32m      5\u001b[0m     \u001b[0;32mreturn\u001b[0m \u001b[0membedding\u001b[0m\u001b[0;34m\u001b[0m\u001b[0m\n",
      "\u001b[0;31mNameError\u001b[0m: name 'images_placeholder' is not defined"
     ]
    }
   ],
   "source": [
    "path = \"../data/people_known/\"\n",
    "for image_name in glob.glob(path + \"*\"):\n",
    "    print(image_name)\n",
    "    img = cv2.imread(image_name)\n",
    "    print(img)\n",
    "    print(img.shape)\n",
    "    face_encode = getFace(img)\n",
    "    print(face_encode)"
   ]
  },
  {
   "cell_type": "code",
   "execution_count": null,
   "metadata": {},
   "outputs": [],
   "source": []
  },
  {
   "cell_type": "code",
   "execution_count": null,
   "metadata": {},
   "outputs": [],
   "source": []
  }
 ],
 "metadata": {
  "kernelspec": {
   "display_name": "Python 3",
   "language": "python",
   "name": "python3"
  },
  "language_info": {
   "codemirror_mode": {
    "name": "ipython",
    "version": 3
   },
   "file_extension": ".py",
   "mimetype": "text/x-python",
   "name": "python",
   "nbconvert_exporter": "python",
   "pygments_lexer": "ipython3",
   "version": "3.6.5"
  }
 },
 "nbformat": 4,
 "nbformat_minor": 2
}
